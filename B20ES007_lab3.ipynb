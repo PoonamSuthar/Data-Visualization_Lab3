{
  "nbformat": 4,
  "nbformat_minor": 0,
  "metadata": {
    "colab": {
      "provenance": []
    },
    "kernelspec": {
      "name": "python3",
      "display_name": "Python 3"
    },
    "language_info": {
      "name": "python"
    }
  },
  "cells": [
    {
      "cell_type": "markdown",
      "source": [
        "Data Visualization Lab 3"
      ],
      "metadata": {
        "id": "kYv86KwIZtYl"
      }
    },
    {
      "cell_type": "code",
      "source": [
        "pip install geopandas"
      ],
      "metadata": {
        "id": "TiDZ4-iIeM1C"
      },
      "execution_count": null,
      "outputs": []
    },
    {
      "cell_type": "markdown",
      "source": [
        "Question 1 (Bubble map to show the populations of all the state capital of India)"
      ],
      "metadata": {
        "id": "JKRuxlcjixua"
      }
    },
    {
      "cell_type": "code",
      "source": [
        "from urllib import request\n",
        "# import required libraries\n",
        "import pandas as pd\n",
        "import numpy as numpy\n",
        "import folium\n",
        "from shapely.geometry import Point\n",
        "import geopandas as gpd\n",
        "import webbrowser\n",
        "import matplotlib.pyplot as plt\n",
        "import requests"
      ],
      "metadata": {
        "id": "3sm2bfdvbO8U"
      },
      "execution_count": 48,
      "outputs": []
    },
    {
      "cell_type": "code",
      "source": [
        "# Import dataset\n",
        "df=pd.read_csv(\"/lab3 - Sheet1.csv\")\n",
        "df2=df.copy()\n",
        "# Using folium library create bubble map of India\n",
        "contry_bubble_map=folium.Map(location=[21.53, 78.69], zoom_start=5.5)\n",
        "for i, j in df.iterrows():\n",
        "    folium.CircleMarker([j['latitude'], j['longitude']],radius=j['population']/500000,fill_color='skyblue',color='blue',fill=True,).add_child(folium.Popup(j['state'] + \": \" + str(j['population']) + \" people\")).add_to(contry_bubble_map)\n",
        "\n",
        "# Show bubble map\n",
        "contry_bubble_map\n"
      ],
      "metadata": {
        "id": "7_f_SNdHF42U"
      },
      "execution_count": null,
      "outputs": []
    },
    {
      "cell_type": "code",
      "source": [
        "data_=gpd.GeoDataFrame(df2,geometry=[Point(xy) for xy in zip(df2.longitude,df2.latitude)])\n",
        "map_bubble_india=folium.Map(location=[21.53, 78.69],zoom_start=5.5)\n",
        "\n",
        "# Bubble map of Indai using shapely and folium\n",
        "data_.apply(lambda x: folium.CircleMarker(location=[x.geometry.y, x.geometry.x],radius=x.population/500000,\n",
        "                                        color='skyblue',fill_color='blue',fill=True,\n",
        "                                       ).add_child(folium.Tooltip(f\"Latitude: {x.latitude},Longitude:{x.longitude},Population:{x.population}\"))\n",
        "                                        .add_to(map_bubble_india),axis=1)\n",
        "# Show bubble map\n",
        "map_bubble_india"
      ],
      "metadata": {
        "id": "Op7kpvwdb1u3"
      },
      "execution_count": null,
      "outputs": []
    },
    {
      "cell_type": "markdown",
      "source": [
        "Question 2 ( Connection graph of Go Air domestic flights of India)"
      ],
      "metadata": {
        "id": "XiPN62h-jNpp"
      }
    },
    {
      "cell_type": "code",
      "source": [
        "# Load Given dataset\n",
        "df=pd.read_csv(\"/flight_data.csv\")\n",
        "print(df.head())\n",
        "df.describe()"
      ],
      "metadata": {
        "id": "ntb8btSoIVdb"
      },
      "execution_count": null,
      "outputs": []
    },
    {
      "cell_type": "code",
      "source": [
        "# Unique Values\n",
        "origin1=pd.unique(df['Origin'])\n",
        "dest1 = pd.unique(df['Destination'])\n",
        "cities=numpy.unique(numpy.concatenate((origin1,dest1),0))\n",
        "cities"
      ],
      "metadata": {
        "id": "QtSJlyldlXR-"
      },
      "execution_count": null,
      "outputs": []
    },
    {
      "cell_type": "code",
      "source": [
        "latitudes=[]\n",
        "longitudes=[]\n",
        "API_KEY='249958e2b520111a8a49669c9f43b007'\n",
        "for i in cities:\n",
        "   response = requests.get(f'https://nominatim.openstreetmap.org/search?q={i}&format=json')\n",
        "   json_data=response.json()\n",
        "   lon=(json_data[0]['lon'])\n",
        "   lat=(json_data[0]['lat'])\n",
        "   latitudes.append(lat)\n",
        "   longitudes.append(lon)\n",
        "\n"
      ],
      "metadata": {
        "id": "I_UIscv-m0ln"
      },
      "execution_count": 71,
      "outputs": []
    },
    {
      "cell_type": "code",
      "source": [
        "coord_lat={k:val for k,val in zip(cities, latitudes)}\n",
        "coord_lon={k:val for k,val in zip(cities, longitudes)}"
      ],
      "metadata": {
        "id": "b8vgun0yrF0p"
      },
      "execution_count": 73,
      "outputs": []
    },
    {
      "cell_type": "code",
      "source": [
        "df['origin_lat']=df['Origin'].map(coord_lat)\n",
        "df['origin_lon']=df['Origin'].map(coord_lon)\n",
        "df['destination_lat']=df['Destination'].map(coord_lat)\n",
        "df['destination_lon']=df['Destination'].map(coord_lon)\n"
      ],
      "metadata": {
        "id": "lklNwy2dmx1w"
      },
      "execution_count": 74,
      "outputs": []
    },
    {
      "cell_type": "code",
      "source": [
        "df['origin_count']=df['Origin'].map(df['Origin'].value_counts(dropna=False).to_dict())\n",
        "df"
      ],
      "metadata": {
        "id": "wNBzuqdNmoNC"
      },
      "execution_count": null,
      "outputs": []
    },
    {
      "cell_type": "code",
      "source": [
        "df.to_csv(\"flight_with_coordinates.csv\", index=False)"
      ],
      "metadata": {
        "id": "q-77SVq8r0Mm"
      },
      "execution_count": 78,
      "outputs": []
    },
    {
      "cell_type": "code",
      "source": [
        "df2=pd.read_csv(\"./flight_with_coordinates.csv\")\n",
        "df2.head()"
      ],
      "metadata": {
        "id": "Ol2GNKn-syrd"
      },
      "execution_count": null,
      "outputs": []
    },
    {
      "cell_type": "code",
      "source": [
        "# Connection Map using Folium\n",
        "connection_map=folium.Map(location=[21.53, 78.69], zoom_start=5.5)\n",
        "for i, j in df2.iterrows():\n",
        "    folium.CircleMarker(location=[j['origin_lat'], j['origin_lon']],\n",
        "                        radius=(j['origin_count']/10),color='blue',\n",
        "                        fill=True,fill_color=None,).add_child(folium.Tooltip(f\"Place: {j['Origin']}, Longitude: {j['origin_lon']}, Latitude: {j['origin_lat']} \\n Origin Count: {origin_count}\")).add_to(connection_map)\n",
        "    \n",
        "    folium.PolyLine([[j['origin_lat'], j['origin_lon']], [j['destination_lat'], j['destination_lon']]], \n",
        "                  color='blue',opacity=0.2\n",
        "                ).add_child(folium.Tooltip(f\"Route: {j['Origin']} to {j['Destination']} \\n Routing: {j['Routing']} \\n Flight No: {j['Flight Number']}\")).add_to(connection_map)\n",
        "# Show connection map\n",
        "connection_map"
      ],
      "metadata": {
        "id": "9IZj3lWns27F"
      },
      "execution_count": null,
      "outputs": []
    }
  ]
}