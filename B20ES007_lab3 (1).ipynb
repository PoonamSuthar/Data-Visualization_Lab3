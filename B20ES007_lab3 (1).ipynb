{
  "nbformat": 4,
  "nbformat_minor": 0,
  "metadata": {
    "colab": {
      "provenance": []
    },
    "kernelspec": {
      "name": "python3",
      "display_name": "Python 3"
    },
    "language_info": {
      "name": "python"
    }
  },
  "cells": [
    {
      "cell_type": "markdown",
      "source": [
        "Data Visualization Lab 3"
      ],
      "metadata": {
        "id": "kYv86KwIZtYl"
      }
    },
    {
      "cell_type": "code",
      "source": [
        "pip install geopandas"
      ],
      "metadata": {
        "id": "TiDZ4-iIeM1C"
      },
      "execution_count": null,
      "outputs": []
    },
    {
      "cell_type": "markdown",
      "source": [
        "Question 1 (Bubble map to show the populations of all the state capital of India)"
      ],
      "metadata": {
        "id": "JKRuxlcjixua"
      }
    },
    {
      "cell_type": "code",
      "source": [
        "# import required libraries\n",
        "from urllib import request\n",
        "import pandas as pd\n",
        "import numpy as numpy\n",
        "import folium\n",
        "from shapely.geometry import Point\n",
        "import geopandas as gpd\n",
        "import webbrowser\n",
        "import matplotlib.pyplot as plt\n",
        "import requests"
      ],
      "metadata": {
        "id": "3sm2bfdvbO8U"
      },
      "execution_count": 3,
      "outputs": []
    },
    {
      "cell_type": "code",
      "source": [
        "# Import dataset\n",
        "df=pd.read_csv(\"/content/lab3 - Sheet1.csv\")\n",
        "df2=df.copy()\n",
        "# Using folium library create bubble map of India\n",
        "contry_bubble_map=folium.Map(location=[21.53, 78.69], zoom_start=5.5)\n",
        "for i, j in df.iterrows():\n",
        "    folium.CircleMarker([j['latitude'], j['longitude']],radius=j['population']/500000,fill_color='skyblue',color='blue',fill=True,).add_child(folium.Popup(j['state'] + \": \" + str(j['population']) + \" people\")).add_to(contry_bubble_map)\n",
        "\n",
        "# Show bubble map\n",
        "contry_bubble_map\n"
      ],
      "metadata": {
        "id": "7_f_SNdHF42U"
      },
      "execution_count": null,
      "outputs": []
    },
    {
      "cell_type": "code",
      "source": [
        "a=df2.longitude\n",
        "b=df2.latitude\n",
        "data_=gpd.GeoDataFrame(df2,geometry=[Point(points) for points in zip(a,b)])\n",
        "map_bubble_india=folium.Map(location=[21.53, 78.69],zoom_start=5.5)\n",
        "\n",
        "# Bubble map of India using shapely and folium\n",
        "data_.apply(lambda x: folium.CircleMarker(location=[x.geometry.y, x.geometry.x],radius=x.population/500000,\n",
        "                                        color='skyblue',fill_color='blue',fill=True,\n",
        "                                       ).add_child(folium.Tooltip(f\"Latitude: {x.latitude},Longitude:{x.longitude},Population:{x.population}\"))\n",
        "                                        .add_to(map_bubble_india),axis=1)\n",
        "# Show bubble map\n",
        "map_bubble_india"
      ],
      "metadata": {
        "id": "Op7kpvwdb1u3"
      },
      "execution_count": null,
      "outputs": []
    },
    {
      "cell_type": "markdown",
      "source": [
        "Question 2 ( Connection graph of Go Air domestic flights of India)"
      ],
      "metadata": {
        "id": "XiPN62h-jNpp"
      }
    },
    {
      "cell_type": "code",
      "source": [
        "# Load Given dataset\n",
        "df=pd.read_csv(\"/content/flight_data.csv\")\n",
        "print(df.head())\n",
        "df.describe()"
      ],
      "metadata": {
        "id": "ntb8btSoIVdb",
        "colab": {
          "base_uri": "https://localhost:8080/",
          "height": 479
        },
        "outputId": "a329be4b-d37d-48e7-9c8f-1e31d8302ceb"
      },
      "execution_count": 6,
      "outputs": [
        {
          "output_type": "stream",
          "name": "stdout",
          "text": [
            "      Origin Destination Flight Number Departure Time Arrival Time  \\\n",
            "0  Abu Dhabi   Ahmedabad          G8 6          23:30        14:10   \n",
            "1  Abu Dhabi   Ahmedabad          G8 6          23:30        14:35   \n",
            "2  Abu Dhabi   Ahmedabad          G8 6          23:30        18:25   \n",
            "3  Abu Dhabi   Ahmedabad          G8 6          23:30        08:55   \n",
            "4  Abu Dhabi   Ahmedabad         G8 76          21:40        07:35   \n",
            "\n",
            "  Flight Time  Routing      Operations       No Effective From EffectiveTo  \n",
            "0       13:10  Via BOM              Sa   G8 247     02/03/2023  02/05/2023  \n",
            "1       13:35  Via BOM  M,W,Th,F,Sa,Su  G8 2504     02/03/2023  02/05/2023  \n",
            "2       17:25  Via BOM           Daily   G8 364     02/03/2023  02/05/2023  \n",
            "3       07:55  Via BOM           Daily   G8 365     02/03/2023  02/05/2023  \n",
            "4       08:25  Via DEL  M,Tu,W,Th,F,Su   G8 719     02/03/2023  02/11/2023  \n"
          ]
        },
        {
          "output_type": "execute_result",
          "data": {
            "text/plain": [
              "        Origin Destination Flight Number Departure Time Arrival Time  \\\n",
              "count     3244        3244          3244           3244         3244   \n",
              "unique      36          36           266            175          185   \n",
              "top     Mumbai      Mumbai       G8 2620          09:25        08:25   \n",
              "freq       348         328            55             67          103   \n",
              "\n",
              "       Flight Time  Routing Operations    No Effective From EffectiveTo  \n",
              "count         3244     3244       3244  3244           3244        3244  \n",
              "unique         240       25         72   201              3          24  \n",
              "top          12:45  Via BOM      Daily     -     02/03/2023  02/15/2023  \n",
              "freq            38     1301       1176   367           2857        1308  "
            ],
            "text/html": [
              "\n",
              "  <div id=\"df-188065f7-cefc-4ba7-a662-bb95a1f2e36e\">\n",
              "    <div class=\"colab-df-container\">\n",
              "      <div>\n",
              "<style scoped>\n",
              "    .dataframe tbody tr th:only-of-type {\n",
              "        vertical-align: middle;\n",
              "    }\n",
              "\n",
              "    .dataframe tbody tr th {\n",
              "        vertical-align: top;\n",
              "    }\n",
              "\n",
              "    .dataframe thead th {\n",
              "        text-align: right;\n",
              "    }\n",
              "</style>\n",
              "<table border=\"1\" class=\"dataframe\">\n",
              "  <thead>\n",
              "    <tr style=\"text-align: right;\">\n",
              "      <th></th>\n",
              "      <th>Origin</th>\n",
              "      <th>Destination</th>\n",
              "      <th>Flight Number</th>\n",
              "      <th>Departure Time</th>\n",
              "      <th>Arrival Time</th>\n",
              "      <th>Flight Time</th>\n",
              "      <th>Routing</th>\n",
              "      <th>Operations</th>\n",
              "      <th>No</th>\n",
              "      <th>Effective From</th>\n",
              "      <th>EffectiveTo</th>\n",
              "    </tr>\n",
              "  </thead>\n",
              "  <tbody>\n",
              "    <tr>\n",
              "      <th>count</th>\n",
              "      <td>3244</td>\n",
              "      <td>3244</td>\n",
              "      <td>3244</td>\n",
              "      <td>3244</td>\n",
              "      <td>3244</td>\n",
              "      <td>3244</td>\n",
              "      <td>3244</td>\n",
              "      <td>3244</td>\n",
              "      <td>3244</td>\n",
              "      <td>3244</td>\n",
              "      <td>3244</td>\n",
              "    </tr>\n",
              "    <tr>\n",
              "      <th>unique</th>\n",
              "      <td>36</td>\n",
              "      <td>36</td>\n",
              "      <td>266</td>\n",
              "      <td>175</td>\n",
              "      <td>185</td>\n",
              "      <td>240</td>\n",
              "      <td>25</td>\n",
              "      <td>72</td>\n",
              "      <td>201</td>\n",
              "      <td>3</td>\n",
              "      <td>24</td>\n",
              "    </tr>\n",
              "    <tr>\n",
              "      <th>top</th>\n",
              "      <td>Mumbai</td>\n",
              "      <td>Mumbai</td>\n",
              "      <td>G8 2620</td>\n",
              "      <td>09:25</td>\n",
              "      <td>08:25</td>\n",
              "      <td>12:45</td>\n",
              "      <td>Via BOM</td>\n",
              "      <td>Daily</td>\n",
              "      <td>-</td>\n",
              "      <td>02/03/2023</td>\n",
              "      <td>02/15/2023</td>\n",
              "    </tr>\n",
              "    <tr>\n",
              "      <th>freq</th>\n",
              "      <td>348</td>\n",
              "      <td>328</td>\n",
              "      <td>55</td>\n",
              "      <td>67</td>\n",
              "      <td>103</td>\n",
              "      <td>38</td>\n",
              "      <td>1301</td>\n",
              "      <td>1176</td>\n",
              "      <td>367</td>\n",
              "      <td>2857</td>\n",
              "      <td>1308</td>\n",
              "    </tr>\n",
              "  </tbody>\n",
              "</table>\n",
              "</div>\n",
              "      <button class=\"colab-df-convert\" onclick=\"convertToInteractive('df-188065f7-cefc-4ba7-a662-bb95a1f2e36e')\"\n",
              "              title=\"Convert this dataframe to an interactive table.\"\n",
              "              style=\"display:none;\">\n",
              "        \n",
              "  <svg xmlns=\"http://www.w3.org/2000/svg\" height=\"24px\"viewBox=\"0 0 24 24\"\n",
              "       width=\"24px\">\n",
              "    <path d=\"M0 0h24v24H0V0z\" fill=\"none\"/>\n",
              "    <path d=\"M18.56 5.44l.94 2.06.94-2.06 2.06-.94-2.06-.94-.94-2.06-.94 2.06-2.06.94zm-11 1L8.5 8.5l.94-2.06 2.06-.94-2.06-.94L8.5 2.5l-.94 2.06-2.06.94zm10 10l.94 2.06.94-2.06 2.06-.94-2.06-.94-.94-2.06-.94 2.06-2.06.94z\"/><path d=\"M17.41 7.96l-1.37-1.37c-.4-.4-.92-.59-1.43-.59-.52 0-1.04.2-1.43.59L10.3 9.45l-7.72 7.72c-.78.78-.78 2.05 0 2.83L4 21.41c.39.39.9.59 1.41.59.51 0 1.02-.2 1.41-.59l7.78-7.78 2.81-2.81c.8-.78.8-2.07 0-2.86zM5.41 20L4 18.59l7.72-7.72 1.47 1.35L5.41 20z\"/>\n",
              "  </svg>\n",
              "      </button>\n",
              "      \n",
              "  <style>\n",
              "    .colab-df-container {\n",
              "      display:flex;\n",
              "      flex-wrap:wrap;\n",
              "      gap: 12px;\n",
              "    }\n",
              "\n",
              "    .colab-df-convert {\n",
              "      background-color: #E8F0FE;\n",
              "      border: none;\n",
              "      border-radius: 50%;\n",
              "      cursor: pointer;\n",
              "      display: none;\n",
              "      fill: #1967D2;\n",
              "      height: 32px;\n",
              "      padding: 0 0 0 0;\n",
              "      width: 32px;\n",
              "    }\n",
              "\n",
              "    .colab-df-convert:hover {\n",
              "      background-color: #E2EBFA;\n",
              "      box-shadow: 0px 1px 2px rgba(60, 64, 67, 0.3), 0px 1px 3px 1px rgba(60, 64, 67, 0.15);\n",
              "      fill: #174EA6;\n",
              "    }\n",
              "\n",
              "    [theme=dark] .colab-df-convert {\n",
              "      background-color: #3B4455;\n",
              "      fill: #D2E3FC;\n",
              "    }\n",
              "\n",
              "    [theme=dark] .colab-df-convert:hover {\n",
              "      background-color: #434B5C;\n",
              "      box-shadow: 0px 1px 3px 1px rgba(0, 0, 0, 0.15);\n",
              "      filter: drop-shadow(0px 1px 2px rgba(0, 0, 0, 0.3));\n",
              "      fill: #FFFFFF;\n",
              "    }\n",
              "  </style>\n",
              "\n",
              "      <script>\n",
              "        const buttonEl =\n",
              "          document.querySelector('#df-188065f7-cefc-4ba7-a662-bb95a1f2e36e button.colab-df-convert');\n",
              "        buttonEl.style.display =\n",
              "          google.colab.kernel.accessAllowed ? 'block' : 'none';\n",
              "\n",
              "        async function convertToInteractive(key) {\n",
              "          const element = document.querySelector('#df-188065f7-cefc-4ba7-a662-bb95a1f2e36e');\n",
              "          const dataTable =\n",
              "            await google.colab.kernel.invokeFunction('convertToInteractive',\n",
              "                                                     [key], {});\n",
              "          if (!dataTable) return;\n",
              "\n",
              "          const docLinkHtml = 'Like what you see? Visit the ' +\n",
              "            '<a target=\"_blank\" href=https://colab.research.google.com/notebooks/data_table.ipynb>data table notebook</a>'\n",
              "            + ' to learn more about interactive tables.';\n",
              "          element.innerHTML = '';\n",
              "          dataTable['output_type'] = 'display_data';\n",
              "          await google.colab.output.renderOutput(dataTable, element);\n",
              "          const docLink = document.createElement('div');\n",
              "          docLink.innerHTML = docLinkHtml;\n",
              "          element.appendChild(docLink);\n",
              "        }\n",
              "      </script>\n",
              "    </div>\n",
              "  </div>\n",
              "  "
            ]
          },
          "metadata": {},
          "execution_count": 6
        }
      ]
    },
    {
      "cell_type": "code",
      "source": [
        "# Unique Values\n",
        "origin1=pd.unique(df['Origin'])\n",
        "dest1 = pd.unique(df['Destination'])\n",
        "cities=numpy.unique(numpy.concatenate((origin1,dest1),0))\n",
        "cities"
      ],
      "metadata": {
        "id": "QtSJlyldlXR-",
        "colab": {
          "base_uri": "https://localhost:8080/"
        },
        "outputId": "6309fc7f-9162-4c85-b304-59ae9ab17697"
      },
      "execution_count": 7,
      "outputs": [
        {
          "output_type": "execute_result",
          "data": {
            "text/plain": [
              "array(['Abu Dhabi', 'Ahmedabad', 'Amritsar', 'Bagdogra', 'Bangkok',\n",
              "       'Bengaluru', 'Chandigarh', 'Chennai', 'Dammam', 'Dehra Dun',\n",
              "       'Delhi', 'Dubai', 'Goa', 'Goa-New Goa', 'Guwahati', 'Hyderabad',\n",
              "       'Jaipur', 'Jammu', 'Kannur', 'Kochi', 'Kolkata', 'Kuwait', 'Leh',\n",
              "       'Lucknow', 'Male', 'Mumbai', 'Muscat', 'Nagpur', 'Patna', 'Phuket',\n",
              "       'Port Blair', 'Pune', 'Ranchi', 'Srinagar', 'Thoise', 'Varanasi'],\n",
              "      dtype=object)"
            ]
          },
          "metadata": {},
          "execution_count": 7
        }
      ]
    },
    {
      "cell_type": "code",
      "source": [
        "latitudes=[]\n",
        "longitudes=[]\n",
        "API_KEY='c3e69fdf5a8d0bd03f0a25a05e48553b'\n",
        "link='https://nominatim.openstreetmap.org/search?q={i}&format=json'\n",
        "\n",
        "for i in cities:\n",
        "   d_j=requests.get( link).json()\n",
        "   lon=(d_j[0]['lon'])\n",
        "   lat=(d_j[0]['lat'])\n",
        "   latitudes.append(lat)\n",
        "   longitudes.append(lon)\n",
        "\n"
      ],
      "metadata": {
        "id": "I_UIscv-m0ln"
      },
      "execution_count": 8,
      "outputs": []
    },
    {
      "cell_type": "code",
      "source": [
        "coord_lat={k:val for k,val in zip(cities, latitudes)}\n",
        "coord_lon={k:val for k,val in zip(cities, longitudes)}"
      ],
      "metadata": {
        "id": "b8vgun0yrF0p"
      },
      "execution_count": 9,
      "outputs": []
    },
    {
      "cell_type": "code",
      "source": [
        "df['origin_lat']=df['Origin'].map(coord_lat)\n",
        "df['origin_lon']=df['Origin'].map(coord_lon)\n",
        "df['destination_lat']=df['Destination'].map(coord_lat)\n",
        "df['destination_lon']=df['Destination'].map(coord_lon)\n"
      ],
      "metadata": {
        "id": "lklNwy2dmx1w"
      },
      "execution_count": 10,
      "outputs": []
    },
    {
      "cell_type": "code",
      "source": [
        "dict_value=df['Origin'].value_counts(dropna=False).to_dict()\n",
        "df['origin_count']=df['Origin'].map(dict_value)"
      ],
      "metadata": {
        "id": "wNBzuqdNmoNC"
      },
      "execution_count": 11,
      "outputs": []
    },
    {
      "cell_type": "code",
      "source": [
        "filename=\"data.csv\"\n",
        "df.to_csv(filename, index=False)"
      ],
      "metadata": {
        "id": "q-77SVq8r0Mm"
      },
      "execution_count": 12,
      "outputs": []
    },
    {
      "cell_type": "code",
      "source": [
        "df2=pd.read_csv(\"data.csv\")\n",
        "df2.head()"
      ],
      "metadata": {
        "id": "Ol2GNKn-syrd"
      },
      "execution_count": null,
      "outputs": []
    },
    {
      "cell_type": "code",
      "source": [
        "# Connection Map using Folium\n",
        "connection_map=folium.Map(location=[21.53, 78.69], zoom_start=5.5)\n",
        "for i, j in df2.iterrows():\n",
        "    circle_marker=folium.CircleMarker(location=[j['origin_lat'], j['origin_lon']],\n",
        "                        radius=(j['origin_count']/10),color='blue',\n",
        "                        fill=True,fill_color=None,)\n",
        "    connection=circle_marker.add_child(folium.Tooltip(f\"Place: {j['Origin']}, Longitude: {j['origin_lon']}, Latitude: {j['origin_lat']} \\n Origin Count: {'origin_count'}\"))\n",
        "    connection.add_to(connection_map)\n",
        "    map_folium=folium.PolyLine([[j['origin_lat'], j['origin_lon']], [j['destination_lat'], j['destination_lon']]], \n",
        "                  color='blue',opacity=0.2\n",
        "                )\n",
        "    final_map=map_folium.add_child(folium.Tooltip(f\"Route: {j['Origin']} to {j['Destination']} \\n Routing: {j['Routing']} \\n Flight No: {j['Flight Number']}\"))\n",
        "    final_map.add_to(connection_map)\n",
        "# Show connection map\n",
        "connection_map"
      ],
      "metadata": {
        "id": "9IZj3lWns27F"
      },
      "execution_count": null,
      "outputs": []
    }
  ]
}